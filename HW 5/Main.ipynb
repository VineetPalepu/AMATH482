{
  "nbformat": 4,
  "nbformat_minor": 0,
  "metadata": {
    "language_info": {
      "codemirror_mode": {
        "name": "ipython",
        "version": 3
      },
      "file_extension": ".py",
      "mimetype": "text/x-python",
      "name": "python",
      "nbconvert_exporter": "python",
      "pygments_lexer": "ipython3",
      "version": "3.9.2-final"
    },
    "orig_nbformat": 2,
    "kernelspec": {
      "name": "python3",
      "display_name": "Python 3.9.2 64-bit",
      "metadata": {
        "interpreter": {
          "hash": "ac59ebe37160ed0dfa835113d9b8498d9f09ceb179beaac4002f036b9467c963"
        }
      }
    },
    "colab": {
      "name": "Main.ipynb",
      "provenance": [],
      "collapsed_sections": [],
      "toc_visible": true
    }
  },
  "cells": [
    {
      "cell_type": "code",
      "metadata": {
        "colab": {
          "base_uri": "https://localhost:8080/"
        },
        "id": "hQvxjgW-2ehj",
        "outputId": "b4eff8cb-ab2d-405b-c542-88959b639c70"
      },
      "source": [
        "!pip install sk-video"
      ],
      "execution_count": null,
      "outputs": []
    },
    {
      "cell_type": "code",
      "metadata": {
        "id": "VMcd2xBL12TX"
      },
      "source": [
        "import numpy as np\n",
        "import matplotlib.pyplot as plt\n",
        "import skvideo\n",
        "import skvideo.io\n",
        "\n",
        "video = skvideo.io.vread(\"monte_carlo_low.mp4\", as_grey=True)\n",
        "video = np.moveaxis(video.reshape(video.shape[:-1]), 0, -1)\n",
        "\n",
        "dt = 1 / 60 # 60 fps"
      ],
      "execution_count": null,
      "outputs": []
    },
    {
      "cell_type": "code",
      "metadata": {
        "colab": {
          "base_uri": "https://localhost:8080/",
          "height": 257
        },
        "id": "nKOpT43S12Tc",
        "outputId": "4101fd88-4c59-412c-a7bd-7c1d9514d1e4"
      },
      "source": [
        "print(video.shape)\n",
        "\n",
        "plt.imshow(video[:,:,5], cmap=\"gray\")\n",
        "plt.show()"
      ],
      "execution_count": null,
      "outputs": []
    },
    {
      "cell_type": "code",
      "metadata": {
        "id": "1pNzoDIW12Td"
      },
      "source": [
        "X = video.reshape(video.shape[0] * video.shape[1], -1)\n",
        "X1 = X[:, 0:-2]\n",
        "X2 = X[:, 1:-1]\n",
        "U, Sigma, V = np.linalg.svd(X1, full_matrices=False)\n"
      ],
      "execution_count": null,
      "outputs": []
    },
    {
      "cell_type": "code",
      "metadata": {
        "colab": {
          "base_uri": "https://localhost:8080/",
          "height": 295
        },
        "id": "UDo8Xf_Gd1ri",
        "outputId": "c254b8f1-c0dc-4ea5-8ff1-31a574bb2a1a"
      },
      "source": [
        "plt.plot(Sigma[:20])\r\n",
        "plt.xlabel(\"Singular Values\")\r\n",
        "plt.title(\"First 20 Singular Values for Ski Drop Clip\")\r\n",
        "plt.show()"
      ],
      "execution_count": null,
      "outputs": []
    },
    {
      "cell_type": "code",
      "metadata": {
        "id": "xeiGTUeR12Td"
      },
      "source": [
        "# mc: rank = 1\n",
        "#ski drop: rank = 10\n",
        "rank = 10\n",
        "S = U[:, 0:rank].T @ X2 @ V[:, 0:rank] @ np.diag(1. / Sigma[0:rank])\n",
        "eigenvalues, eigenvectors = np.linalg.eig(S)\n",
        "omega = np.log(eigenvalues) / dt\n",
        "phi = U[:, 0:rank] @ eigenvectors"
      ],
      "execution_count": null,
      "outputs": []
    },
    {
      "cell_type": "code",
      "metadata": {
        "id": "Deh_15tK12Td"
      },
      "source": [
        "y0, _, _, _ = np.linalg.lstsq(phi, X1[:, 0], rcond=None)"
      ],
      "execution_count": null,
      "outputs": []
    },
    {
      "cell_type": "code",
      "metadata": {
        "id": "17gId_21IVSA"
      },
      "source": [
        "ind = np.argmin(np.abs(omega))\r\n",
        "X_low = y0[ind] * phi[:, ind] * np.exp(omega[ind] * (ind * dt))\r\n",
        "X_sparse = X - np.abs(X_low)[:, None]\r\n",
        "\r\n",
        "\r\n",
        "## Maybe move these? idk\r\n",
        "X_low_norm = X_low / np.amax(np.abs(X_low))\r\n",
        "X_sparse_norm = (X / np.abs(np.amax(np.abs(X), axis=0))) - np.abs(X_low_norm[:, None])\r\n",
        "\r\n",
        "\r\n",
        "R = X_sparse_norm * (X_sparse_norm < 0)\r\n",
        "X_low_imp = R[:, 0] + np.abs(X_low_norm)\r\n",
        "X_sparse_imp = X_sparse_norm - R"
      ],
      "execution_count": null,
      "outputs": []
    },
    {
      "cell_type": "code",
      "metadata": {
        "colab": {
          "base_uri": "https://localhost:8080/",
          "height": 435
        },
        "id": "IKp5xnPeJusF",
        "outputId": "7f152869-5e70-417d-cc9e-59d6ade9da24"
      },
      "source": [
        "plt.imshow(X[:, 10].reshape(video.shape[0], video.shape[1]), cmap=\"gray\")\r\n",
        "plt.show()\r\n",
        "plt.imshow((X_sparse_imp[:, 10]).reshape(video.shape[0], video.shape[1]), cmap=\"gray\")\r\n",
        "plt.show()"
      ],
      "execution_count": null,
      "outputs": []
    },
    {
      "cell_type": "code",
      "metadata": {
        "colab": {
          "base_uri": "https://localhost:8080/",
          "height": 801
        },
        "id": "-wt8EKcIBcOZ",
        "outputId": "1d0d927c-946d-4a0b-b7b7-544bf4b10dcd"
      },
      "source": [
        "# Check ranges of data\r\n",
        "print(np.amin(np.abs(X_low_norm)))\r\n",
        "print(np.amax(np.abs(X_low_norm)))\r\n",
        "plt.imshow(np.abs(X_low_norm).reshape(video.shape[0], video.shape[1]), cmap=\"gray\")\r\n",
        "plt.show()\r\n",
        "\r\n",
        "test_img = X[:, 0] / np.amax(X[:, 0])\r\n",
        "print(np.amin(np.abs(test_img)))\r\n",
        "print(np.amax(np.abs(test_img)))\r\n",
        "plt.imshow(test_img.reshape(video.shape[0], video.shape[1]), cmap=\"gray\")\r\n",
        "plt.show()\r\n",
        "\r\n",
        "fg = test_img - X_low_norm\r\n",
        "print(np.amin(fg))\r\n",
        "print(np.amax(fg))\r\n",
        "plt.imshow(np.abs(fg).reshape(video.shape[0], video.shape[1]), cmap=\"gray\")\r\n",
        "plt.colorbar()\r\n",
        "plt.show()"
      ],
      "execution_count": null,
      "outputs": []
    }
  ]
}